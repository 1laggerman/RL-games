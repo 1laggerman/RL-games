{
 "cells": [
  {
   "cell_type": "code",
   "execution_count": 1,
   "metadata": {},
   "outputs": [
    {
     "name": "stdout",
     "output_type": "stream",
     "text": [
      "1.26.4\n",
      "2.3.0\n",
      "1.26.4\n",
      "2.3.0\n"
     ]
    }
   ],
   "source": [
    "import numpy as np\n",
    "print(np.__version__)\n",
    "\n",
    "\n",
    "import torch\n",
    "print(torch.__version__)\n",
    "\n",
    "import torch.nn as nn\n",
    "import torch.nn.functional as F\n",
    "\n",
    "torch.manual_seed(0)\n",
    "\n",
    "from tqdm.notebook import trange\n",
    "\n",
    "import random\n",
    "import math\n",
    "\n",
    "from src.Games.TicTacToe.TicTacToe import TicTacToe_Board, TicTacToe_move\n",
    "from src.players.MCTS.Models.Alphatest import ResNet, ResBlock, AlphaZero"
   ]
  },
  {
   "cell_type": "code",
   "execution_count": 2,
   "metadata": {},
   "outputs": [
    {
     "ename": "AttributeError",
     "evalue": "'TicTacToe_Board' object has no attribute 'get_initial_state'",
     "output_type": "error",
     "traceback": [
      "\u001b[1;31m---------------------------------------------------------------------------\u001b[0m",
      "\u001b[1;31mAttributeError\u001b[0m                            Traceback (most recent call last)",
      "Cell \u001b[1;32mIn[2], line 23\u001b[0m\n\u001b[0;32m     11\u001b[0m args \u001b[38;5;241m=\u001b[39m {\n\u001b[0;32m     12\u001b[0m     \u001b[38;5;124m'\u001b[39m\u001b[38;5;124mC\u001b[39m\u001b[38;5;124m'\u001b[39m: \u001b[38;5;241m2\u001b[39m,\n\u001b[0;32m     13\u001b[0m     \u001b[38;5;124m'\u001b[39m\u001b[38;5;124mnum_searches\u001b[39m\u001b[38;5;124m'\u001b[39m: \u001b[38;5;241m60\u001b[39m,\n\u001b[1;32m   (...)\u001b[0m\n\u001b[0;32m     17\u001b[0m     \u001b[38;5;124m'\u001b[39m\u001b[38;5;124mbatch_size\u001b[39m\u001b[38;5;124m'\u001b[39m: \u001b[38;5;241m64\u001b[39m\n\u001b[0;32m     18\u001b[0m }\n\u001b[0;32m     20\u001b[0m alphaZero \u001b[38;5;241m=\u001b[39m AlphaZero(model, optimizer, board, args)\n\u001b[1;32m---> 23\u001b[0m alphaZero\u001b[38;5;241m.\u001b[39mselfPlay()\n",
      "File \u001b[1;32mg:\\programming\\ML.AI\\reinforcment\\RL-games\\src\\players\\MCTS\\Models\\Alphatest.py:194\u001b[0m, in \u001b[0;36mAlphaZero.selfPlay\u001b[1;34m(self)\u001b[0m\n\u001b[0;32m    192\u001b[0m memory \u001b[38;5;241m=\u001b[39m []\n\u001b[0;32m    193\u001b[0m player \u001b[38;5;241m=\u001b[39m \u001b[38;5;241m1\u001b[39m\n\u001b[1;32m--> 194\u001b[0m state \u001b[38;5;241m=\u001b[39m \u001b[38;5;28mself\u001b[39m\u001b[38;5;241m.\u001b[39mgame\u001b[38;5;241m.\u001b[39mget_initial_state()\n\u001b[0;32m    196\u001b[0m \u001b[38;5;28;01mwhile\u001b[39;00m \u001b[38;5;28;01mTrue\u001b[39;00m:\n\u001b[0;32m    197\u001b[0m     neutral_state \u001b[38;5;241m=\u001b[39m \u001b[38;5;28mself\u001b[39m\u001b[38;5;241m.\u001b[39mgame\u001b[38;5;241m.\u001b[39mchange_perspective(state, player)\n",
      "\u001b[1;31mAttributeError\u001b[0m: 'TicTacToe_Board' object has no attribute 'get_initial_state'"
     ]
    }
   ],
   "source": [
    "import matplotlib.pyplot as plt\n",
    "\n",
    "# tictactoe = TicTacToe()\n",
    "board = TicTacToe_Board((3, 3))\n",
    "\n",
    "\n",
    "model = ResNet(4, 64)\n",
    "\n",
    "optimizer = torch.optim.Adam(model.parameters(), lr=0.001)\n",
    "\n",
    "args = {\n",
    "    'C': 2,\n",
    "    'num_searches': 60,\n",
    "    'num_iterations': 3,\n",
    "    'num_selfPlay_iterations': 500,\n",
    "    'num_epochs': 4,\n",
    "    'batch_size': 64\n",
    "}\n",
    "\n",
    "alphaZero = AlphaZero(model, optimizer, board, args)\n",
    "\n",
    "\n",
    "alphaZero.selfPlay()\n",
    "# alphaZero.learn()\n",
    "\n",
    "\n",
    "# p1 = AlphaZero()\n",
    "\n",
    "\n",
    "# state = tictactoe.get_initial_state()\n",
    "# state = tictactoe.get_next_state(state, 2, -1)\n",
    "# state = tictactoe.get_next_state(state, 4, -1)\n",
    "# state = tictactoe.get_next_state(state, 6, 1)\n",
    "# state = tictactoe.get_next_state(state, 8, 1)\n",
    "\n",
    "\n",
    "# encoded_state = tictactoe.get_encoded_state(state)\n",
    "\n",
    "# tensor_state = torch.tensor(encoded_state).unsqueeze(0)\n",
    "\n",
    "# model = ResNet(tictactoe, 4, 64)\n",
    "# # model.load_state_dict(torch.load('model_2.pt'))\n",
    "# # model.eval()\n",
    "\n",
    "# policy, value = model(tensor_state)\n",
    "# value = value.item()\n",
    "# policy = torch.softmax(policy, axis=1).squeeze(0).detach().cpu().numpy()\n",
    "\n",
    "# print(value)\n",
    "\n",
    "# print(tictactoe)\n",
    "# print(tensor_state)\n",
    "\n",
    "# plt.bar(range(tictactoe.action_size), policy)\n",
    "# plt.show()"
   ]
  }
 ],
 "metadata": {
  "kernelspec": {
   "display_name": "base",
   "language": "python",
   "name": "python3"
  },
  "language_info": {
   "codemirror_mode": {
    "name": "ipython",
    "version": 3
   },
   "file_extension": ".py",
   "mimetype": "text/x-python",
   "name": "python",
   "nbconvert_exporter": "python",
   "pygments_lexer": "ipython3",
   "version": "3.12.4"
  }
 },
 "nbformat": 4,
 "nbformat_minor": 2
}
