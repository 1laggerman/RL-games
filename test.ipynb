{
 "cells": [
  {
   "cell_type": "code",
   "execution_count": 3,
   "metadata": {},
   "outputs": [
    {
     "name": "stdout",
     "output_type": "stream",
     "text": [
      "pygame 2.6.0 (SDL 2.28.4, Python 3.12.4)\n",
      "Hello from the pygame community. https://www.pygame.org/contribute.html\n"
     ]
    }
   ],
   "source": [
    "from src.Games.TicTacToe.TicTacToe import TicTacToe_Game, TicTacToe_Action\n",
    "from src.players.Input.terminalInput import terminalPlayer as humanPlayer\n",
    "from src.players.MCTS.Models.MCTS_uct import MCTS_uct_Tree\n",
    "from src.players.MCTS.Models.Alpha_Zero import Alpha_Zero_player, AZ_search_args, AZ_NArgs, AZ_train_args\n",
    "from src.players.MCTS.Models.ML_architecture.resnet import BaseResnet\n",
    "from src.players.MCTS.Treeplayer import SArgs\n",
    "from src.base import play, bind, Piece, Role, Move\n",
    "import time\n",
    "from copy import deepcopy\n",
    "import numpy as np\n",
    "from typing import Any\n",
    "import torch\n",
    "import os\n",
    "import math\n",
    "\n",
    "from src.UI.GUI import pygame_play"
   ]
  },
  {
   "cell_type": "code",
   "execution_count": 2,
   "metadata": {},
   "outputs": [
    {
     "name": "stdout",
     "output_type": "stream",
     "text": [
      "(1, 1)\n",
      "(0, 1)\n",
      "(0, 0)\n",
      "(1, 0)\n",
      "(2, 2)\n"
     ]
    }
   ],
   "source": [
    "\n",
    "game = TicTacToe_Game()\n",
    "pygame_play(game)"
   ]
  },
  {
   "cell_type": "markdown",
   "metadata": {},
   "source": [
    "test play"
   ]
  },
  {
   "cell_type": "code",
   "execution_count": null,
   "metadata": {},
   "outputs": [],
   "source": [
    "# play(TicTacToe_Game(), [humanPlayer(TicTacToe_Game(), \"X\"), humanPlayer(TicTacToe_Game(), \"O\")])"
   ]
  },
  {
   "cell_type": "markdown",
   "metadata": {},
   "source": [
    "test board"
   ]
  },
  {
   "cell_type": "code",
   "execution_count": 2,
   "metadata": {},
   "outputs": [
    {
     "name": "stdout",
     "output_type": "stream",
     "text": [
      "[[[0. 0. 0.]\n",
      "  [0. 0. 0.]\n",
      "  [0. 0. 0.]]\n",
      "\n",
      " [[1. 1. 1.]\n",
      "  [1. 1. 1.]\n",
      "  [1. 1. 1.]]\n",
      "\n",
      " [[0. 0. 0.]\n",
      "  [0. 0. 0.]\n",
      "  [0. 0. 0.]]]\n",
      "[[[1. 0. 0.]\n",
      "  [0. 0. 0.]\n",
      "  [0. 0. 0.]]\n",
      "\n",
      " [[0. 1. 1.]\n",
      "  [1. 1. 1.]\n",
      "  [1. 1. 1.]]\n",
      "\n",
      " [[0. 0. 0.]\n",
      "  [0. 0. 0.]\n",
      "  [0. 0. 0.]]]\n",
      "O\n"
     ]
    },
    {
     "ename": "AttributeError",
     "evalue": "'TicTacToe_Game' object has no attribute 'players'",
     "output_type": "error",
     "traceback": [
      "\u001b[1;31m---------------------------------------------------------------------------\u001b[0m",
      "\u001b[1;31mAttributeError\u001b[0m                            Traceback (most recent call last)",
      "Cell \u001b[1;32mIn[2], line 10\u001b[0m\n\u001b[0;32m      7\u001b[0m \u001b[38;5;28mprint\u001b[39m(game\u001b[38;5;241m.\u001b[39mencode())\n\u001b[0;32m      8\u001b[0m \u001b[38;5;28mprint\u001b[39m(game\u001b[38;5;241m.\u001b[39mcurr_role)\n\u001b[1;32m---> 10\u001b[0m game\u001b[38;5;241m.\u001b[39munmake_move()\n\u001b[0;32m     12\u001b[0m \u001b[38;5;28mprint\u001b[39m(game\u001b[38;5;241m.\u001b[39mencode())\n\u001b[0;32m     13\u001b[0m \u001b[38;5;28mprint\u001b[39m(game\u001b[38;5;241m.\u001b[39mcurr_role)\n",
      "File \u001b[1;32mg:\\programming\\ML.AI\\reinforcment\\RL-games\\src\\base.py:386\u001b[0m, in \u001b[0;36mGame.unmake_move\u001b[1;34m(self)\u001b[0m\n\u001b[0;32m    382\u001b[0m \u001b[38;5;250m\u001b[39m\u001b[38;5;124;03m\"\"\"\u001b[39;00m\n\u001b[0;32m    383\u001b[0m \u001b[38;5;124;03mshell function to unmake a move, removes the last move from history, calls reverse_state, and updates curr_player\u001b[39;00m\n\u001b[0;32m    384\u001b[0m \u001b[38;5;124;03m\"\"\"\u001b[39;00m\n\u001b[0;32m    385\u001b[0m move \u001b[38;5;241m=\u001b[39m \u001b[38;5;28mself\u001b[39m\u001b[38;5;241m.\u001b[39mhistory\u001b[38;5;241m.\u001b[39mpop()\n\u001b[1;32m--> 386\u001b[0m \u001b[38;5;28mself\u001b[39m\u001b[38;5;241m.\u001b[39mreverse_state(move)\n\u001b[0;32m    387\u001b[0m \u001b[38;5;28mself\u001b[39m\u001b[38;5;241m.\u001b[39mprev_player()\n",
      "File \u001b[1;32mg:\\programming\\ML.AI\\reinforcment\\RL-games\\src\\Games\\TicTacToe\\TicTacToe.py:90\u001b[0m, in \u001b[0;36mTicTacToe_Game.reverse_state\u001b[1;34m(self, move)\u001b[0m\n\u001b[0;32m     88\u001b[0m \u001b[38;5;28mself\u001b[39m\u001b[38;5;241m.\u001b[39mwinner \u001b[38;5;241m=\u001b[39m \u001b[38;5;28;01mNone\u001b[39;00m\n\u001b[0;32m     89\u001b[0m \u001b[38;5;28mself\u001b[39m\u001b[38;5;241m.\u001b[39mreward \u001b[38;5;241m=\u001b[39m \u001b[38;5;241m0\u001b[39m\n\u001b[1;32m---> 90\u001b[0m \u001b[38;5;28;01mfor\u001b[39;00m player \u001b[38;5;129;01min\u001b[39;00m \u001b[38;5;28mself\u001b[39m\u001b[38;5;241m.\u001b[39mplayers:\n\u001b[0;32m     91\u001b[0m     player\u001b[38;5;241m.\u001b[39mreward \u001b[38;5;241m=\u001b[39m \u001b[38;5;241m0\u001b[39m\n",
      "\u001b[1;31mAttributeError\u001b[0m: 'TicTacToe_Game' object has no attribute 'players'"
     ]
    }
   ],
   "source": [
    "\n",
    "# game = TicTacToe_Game()\n",
    "\n",
    "# print(game.encode())\n",
    "\n",
    "# game.make_move(TicTacToe_move(\"0,0\"))\n",
    "\n",
    "# print(game.encode())\n",
    "# print(game.curr_role)\n",
    "\n",
    "# game.unmake_move()\n",
    "\n",
    "# print(game.encode())\n",
    "# print(game.curr_role)"
   ]
  },
  {
   "cell_type": "markdown",
   "metadata": {},
   "source": [
    "test pygame"
   ]
  },
  {
   "cell_type": "code",
   "execution_count": 1,
   "metadata": {},
   "outputs": [
    {
     "name": "stdout",
     "output_type": "stream",
     "text": [
      "pygame 2.6.0 (SDL 2.28.4, Python 3.12.4)\n",
      "Hello from the pygame community. https://www.pygame.org/contribute.html\n"
     ]
    }
   ],
   "source": [
    "# from src.UI.GUI import pygame_play\n",
    "\n",
    "# pygame_play()"
   ]
  },
  {
   "cell_type": "code",
   "execution_count": 2,
   "metadata": {},
   "outputs": [
    {
     "name": "stdout",
     "output_type": "stream",
     "text": [
      "[X]\n"
     ]
    }
   ],
   "source": [
    "# game = TicTacToe_Game()\n",
    "\n",
    "# game.make_move(TicTacToe_move(\"0,0\"))\n",
    "\n",
    "# print(game.roles[0].pieces)"
   ]
  },
  {
   "cell_type": "code",
   "execution_count": null,
   "metadata": {},
   "outputs": [],
   "source": [
    "# def draw_X(screen, pos, step):\n",
    "#     center = (step * (pos[0] + 1) / 2, step * (pos[1] + 1) / 2)\n",
    "    \n",
    "#     pygame.draw.line(screen, (255, 255, 255), (center[0] - 100, center[1] - 100), (center[0] + 100, center[1] + 100), 8)\n",
    "#     pygame.draw.line(screen, (255, 255, 255), (center[0] - 100, center[1] + 100), (center[0] + 100, center[1] - 100), 8)\n",
    "\n",
    "# def draw_O(screen, pos, step):\n",
    "#     pygame.draw.circle(screen, (255, 255, 255), (step * (pos[0] + 1) / 2, step * (pos[1] + 1) / 2), 100, 10)\n",
    "\n",
    "# def pygame_play():\n",
    "#     window_len = 800\n",
    "#     SCREEN_WIDTH = window_len\n",
    "#     SCREEN_HEIGHT = window_len\n",
    "#     FPS = 10\n",
    "#     pygame.init()\n",
    "#     screen = pygame.display.set_mode((SCREEN_WIDTH, SCREEN_HEIGHT))\n",
    "#     clock = pygame.time.Clock()\n",
    "\n",
    "#     game = TicTacToe_Game()\n",
    "\n",
    "#     # game.make_move(TicTacToe_move(\"0,0\"))\n",
    "\n",
    "#     pygame.display.set_caption(\"Tic Tac Toe\")\n",
    "\n",
    "#     po = False\n",
    "#     running = True\n",
    "#     while running:\n",
    "\n",
    "#         screen.fill((0, 0, 0))\n",
    "#         step = window_len / 3\n",
    "\n",
    "#         pygame.draw.line(screen, (255, 255, 255), (0, step), (window_len, step), 10)\n",
    "#         pygame.draw.line(screen, (255, 255, 255), (0, step * 2), (window_len, step * 2), 10)\n",
    "\n",
    "#         pygame.draw.line(screen, (255, 255, 255), (step, 0), (step, window_len), 10)\n",
    "#         pygame.draw.line(screen, (255, 255, 255), (step * 2, 0), (step * 2, window_len), 10)\n",
    "\n",
    "        \n",
    "#         for piece in game.roles[0].pieces:\n",
    "#             draw_X(screen, piece.location, step)\n",
    "\n",
    "#         for piece in game.roles[1].pieces:\n",
    "#             draw_O(screen, piece.location, step)\n",
    "\n",
    "#         for event in pygame.event.get():\n",
    "#             if event.type == pygame.QUIT:\n",
    "#                 running = False\n",
    "#             elif event.type == pygame.MOUSEBUTTONDOWN:\n",
    "#                 pos = pygame.mouse.get_pos()\n",
    "#                 print(pos)\n",
    "#                 game.make_move(TicTacToe_move(str(pos[0] + ', ' + pos[1])))\n",
    "\n",
    "#         pygame.display.update()\n",
    "#         clock.tick(FPS)\n",
    "\n",
    "#     pygame.quit()\n",
    "\n",
    "# pygame_play()"
   ]
  }
 ],
 "metadata": {
  "kernelspec": {
   "display_name": "base",
   "language": "python",
   "name": "python3"
  },
  "language_info": {
   "codemirror_mode": {
    "name": "ipython",
    "version": 3
   },
   "file_extension": ".py",
   "mimetype": "text/x-python",
   "name": "python",
   "nbconvert_exporter": "python",
   "pygments_lexer": "ipython3",
   "version": "3.12.3"
  }
 },
 "nbformat": 4,
 "nbformat_minor": 2
}
